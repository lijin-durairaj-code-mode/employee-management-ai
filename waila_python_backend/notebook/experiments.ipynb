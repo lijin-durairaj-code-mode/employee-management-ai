{
 "cells": [
  {
   "cell_type": "code",
   "execution_count": 29,
   "metadata": {},
   "outputs": [],
   "source": [
    "from langchain_huggingface import (\n",
    "    HuggingFaceEndpoint, ChatHuggingFace, HuggingFaceEmbeddings\n",
    ")\n",
    "from langchain_core.output_parsers import StrOutputParser\n",
    "from langchain.prompts import PromptTemplate, ChatPromptTemplate\n"
   ]
  },
  {
   "cell_type": "code",
   "execution_count": 47,
   "metadata": {},
   "outputs": [],
   "source": [
    "from langchain.output_parsers import StructuredOutputParser, ResponseSchema"
   ]
  },
  {
   "cell_type": "code",
   "execution_count": 56,
   "metadata": {},
   "outputs": [],
   "source": [
    "from pydantic import BaseModel,Field\n",
    "\n",
    "class RewriteQueryOutputFormat(BaseModel):\n",
    "  query:list=Field(...,description='The re-written user query')\n",
    "\n",
    "\n",
    "rewrite_3_prompt = '''\n",
    "You are an expert in rephrasing complex employee-related questions into short, compressed, and easy-to-understand alternatives.\n",
    "Given a user’s original question, rewrite it into 3 distinct simplified queries that retain the core meaning but are easier to process and interpret.\n",
    "\n",
    "Each rewritten query should:\n",
    "- Be short and direct (1–2 lines)\n",
    "- Avoid unnecessary words\n",
    "- Use simpler language\n",
    "- Capture the original intent accurately\n",
    "\n",
    "{format_instructions}\n",
    "\n",
    "Question: {input_question}\n",
    "Answer:\n",
    "'''.strip()\n",
    "\n",
    "\n",
    "schema = [\n",
    "    ResponseSchema(\n",
    "        name='answer',\n",
    "        description='List of 3 re-written queries that are short and easy to understand.'\n",
    "    )\n",
    "]\n",
    "\n",
    "parser = StructuredOutputParser.from_response_schemas(schema)\n",
    "format_instructions = parser.get_format_instructions()\n",
    "\n",
    "\n",
    "prompt=PromptTemplate(\n",
    "    template=rewrite_3_prompt,\n",
    "     input_variables=['input_question'],\n",
    "    partial_variables={\"format_instructions\": format_instructions}\n",
    ")"
   ]
  },
  {
   "cell_type": "code",
   "execution_count": 57,
   "metadata": {},
   "outputs": [],
   "source": [
    "llm = HuggingFaceEndpoint(\n",
    "repo_id=\"meta-llama/Llama-3.2-3B-Instruct\",\n",
    "task=\"text-generation\"\n",
    ")\n",
    "model = ChatHuggingFace(llm=llm)\n",
    "\n"
   ]
  },
  {
   "cell_type": "code",
   "execution_count": 58,
   "metadata": {},
   "outputs": [],
   "source": [
    "chain=(\n",
    "    prompt\n",
    "    | model\n",
    "    | parser\n",
    ")\n"
   ]
  },
  {
   "cell_type": "code",
   "execution_count": 59,
   "metadata": {},
   "outputs": [],
   "source": [
    "response=chain.invoke({\n",
    "    \"input_question\":\"pull me all the details of the person by the name unis and also the persons joining date\"\n",
    "})"
   ]
  },
  {
   "cell_type": "code",
   "execution_count": 60,
   "metadata": {},
   "outputs": [
    {
     "name": "stdout",
     "output_type": "stream",
     "text": [
      "{'answer': [\"What is the person's details by name Unis?\", 'Who is Unis in our database?', \"Can you show Unis's profile?\"]}\n"
     ]
    }
   ],
   "source": [
    "print(response)"
   ]
  }
 ],
 "metadata": {
  "kernelspec": {
   "display_name": "modelenvnew",
   "language": "python",
   "name": "python3"
  },
  "language_info": {
   "codemirror_mode": {
    "name": "ipython",
    "version": 3
   },
   "file_extension": ".py",
   "mimetype": "text/x-python",
   "name": "python",
   "nbconvert_exporter": "python",
   "pygments_lexer": "ipython3",
   "version": "3.11.13"
  }
 },
 "nbformat": 4,
 "nbformat_minor": 2
}
