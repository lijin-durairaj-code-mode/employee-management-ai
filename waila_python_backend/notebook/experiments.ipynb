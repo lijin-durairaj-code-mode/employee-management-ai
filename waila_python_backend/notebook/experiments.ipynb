{
 "cells": [
  {
   "cell_type": "code",
   "execution_count": 2,
   "metadata": {},
   "outputs": [],
   "source": [
    "from langchain_huggingface import (\n",
    "    HuggingFaceEndpoint, ChatHuggingFace, HuggingFaceEmbeddings\n",
    ")\n",
    "from langchain_core.output_parsers import StrOutputParser\n",
    "from langchain.prompts import PromptTemplate, ChatPromptTemplate\n",
    "from langchain.output_parsers import StructuredOutputParser, ResponseSchema\n"
   ]
  },
  {
   "cell_type": "code",
   "execution_count": 37,
   "metadata": {},
   "outputs": [],
   "source": [
    "rewrite_3_prompt = '''\n",
    "<s><INST>You are an expert in rephrasing complex employee-related questions into short, compressed, and easy-to-understand alternatives.\n",
    "Given a user’s original question, rewrite it into 3 distinct simplified queries that retain the core meaning but are easier to process and interpret.\n",
    "\n",
    "Each rewritten query should:\n",
    "- Be short and direct (1–2 lines)\n",
    "- Avoid unnecessary words\n",
    "- Use simpler language\n",
    "- Capture the original intent accurately\n",
    "\n",
    "{format_instructions}\n",
    "\n",
    "Question: {input_question}\n",
    "Answer:</INST>\n",
    "'''.strip()\n",
    "schema = [\n",
    "    ResponseSchema(\n",
    "        name='answer',\n",
    "        description='List of 3 re-written queries that are short and easy to understand.',\n",
    "        type='list'\n",
    "    )\n",
    "]\n",
    "parser = StructuredOutputParser.from_response_schemas(schema)\n",
    "format_instructions = parser.get_format_instructions()\n",
    "\n",
    "human_in_loop_prompt=PromptTemplate(\n",
    "    template=rewrite_3_prompt,\n",
    "     input_variables=['input_question'],\n",
    "    partial_variables={\"format_instructions\": format_instructions}\n",
    ")\n",
    "\n",
    "parser=StrOutputParser()\n",
    "llm = HuggingFaceEndpoint(\n",
    "repo_id=\"meta-llama/Llama-3.2-3B-Instruct\",\n",
    "task=\"text-generation\"\n",
    ")\n",
    "model = ChatHuggingFace(llm=llm)\n",
    "\n",
    "chain=(        \n",
    "        human_in_loop_prompt\n",
    "        | model\n",
    "        | parser\n",
    "    )\n",
    "response=chain.invoke({\n",
    "    'input_question':'get me the details of unis'\n",
    "})"
   ]
  },
  {
   "cell_type": "code",
   "execution_count": 31,
   "metadata": {},
   "outputs": [],
   "source": [
    "import json\n",
    "from ast import literal_eval\n",
    "import re\n",
    "# result=literal_eval(response)\n",
    "\n",
    "fixed = re.sub(r'(\"\\s*[^\"]+?\\?)(?=\"\\s*\")', r'\\1,\",', response)"
   ]
  },
  {
   "cell_type": "code",
   "execution_count": 41,
   "metadata": {},
   "outputs": [
    {
     "name": "stdout",
     "output_type": "stream",
     "text": [
      "```json\n",
      "{\n",
      "  \"answer\": [\n",
      "    \"What type of university information are you looking for?\",\n",
      "    \"Can you please specify what details of universities you need?\",\n",
      "    \"What specific information about universities do you require?\"\n",
      "  ]\n",
      "}\n",
      "```\n",
      "\n",
      "These rewritten queries aim to capture the essence of the original question, 'get me the details of unis', while making it concise and easy to understand.\n"
     ]
    }
   ],
   "source": [
    "print(response)"
   ]
  },
  {
   "cell_type": "code",
   "execution_count": 34,
   "metadata": {},
   "outputs": [
    {
     "ename": "JSONDecodeError",
     "evalue": "Expecting value: line 1 column 1 (char 0)",
     "output_type": "error",
     "traceback": [
      "\u001b[31m---------------------------------------------------------------------------\u001b[39m",
      "\u001b[31mJSONDecodeError\u001b[39m                           Traceback (most recent call last)",
      "\u001b[36mCell\u001b[39m\u001b[36m \u001b[39m\u001b[32mIn[34]\u001b[39m\u001b[32m, line 1\u001b[39m\n\u001b[32m----> \u001b[39m\u001b[32m1\u001b[39m \u001b[43mjson\u001b[49m\u001b[43m.\u001b[49m\u001b[43mloads\u001b[49m\u001b[43m(\u001b[49m\u001b[43mfixed\u001b[49m\u001b[43m)\u001b[49m\n",
      "\u001b[36mFile \u001b[39m\u001b[32mc:\\Users\\Lijin Durairaj\\AppData\\Local\\conda\\conda\\envs\\modelenvnew\\Lib\\json\\__init__.py:346\u001b[39m, in \u001b[36mloads\u001b[39m\u001b[34m(s, cls, object_hook, parse_float, parse_int, parse_constant, object_pairs_hook, **kw)\u001b[39m\n\u001b[32m    341\u001b[39m     s = s.decode(detect_encoding(s), \u001b[33m'\u001b[39m\u001b[33msurrogatepass\u001b[39m\u001b[33m'\u001b[39m)\n\u001b[32m    343\u001b[39m \u001b[38;5;28;01mif\u001b[39;00m (\u001b[38;5;28mcls\u001b[39m \u001b[38;5;129;01mis\u001b[39;00m \u001b[38;5;28;01mNone\u001b[39;00m \u001b[38;5;129;01mand\u001b[39;00m object_hook \u001b[38;5;129;01mis\u001b[39;00m \u001b[38;5;28;01mNone\u001b[39;00m \u001b[38;5;129;01mand\u001b[39;00m\n\u001b[32m    344\u001b[39m         parse_int \u001b[38;5;129;01mis\u001b[39;00m \u001b[38;5;28;01mNone\u001b[39;00m \u001b[38;5;129;01mand\u001b[39;00m parse_float \u001b[38;5;129;01mis\u001b[39;00m \u001b[38;5;28;01mNone\u001b[39;00m \u001b[38;5;129;01mand\u001b[39;00m\n\u001b[32m    345\u001b[39m         parse_constant \u001b[38;5;129;01mis\u001b[39;00m \u001b[38;5;28;01mNone\u001b[39;00m \u001b[38;5;129;01mand\u001b[39;00m object_pairs_hook \u001b[38;5;129;01mis\u001b[39;00m \u001b[38;5;28;01mNone\u001b[39;00m \u001b[38;5;129;01mand\u001b[39;00m \u001b[38;5;129;01mnot\u001b[39;00m kw):\n\u001b[32m--> \u001b[39m\u001b[32m346\u001b[39m     \u001b[38;5;28;01mreturn\u001b[39;00m \u001b[43m_default_decoder\u001b[49m\u001b[43m.\u001b[49m\u001b[43mdecode\u001b[49m\u001b[43m(\u001b[49m\u001b[43ms\u001b[49m\u001b[43m)\u001b[49m\n\u001b[32m    347\u001b[39m \u001b[38;5;28;01mif\u001b[39;00m \u001b[38;5;28mcls\u001b[39m \u001b[38;5;129;01mis\u001b[39;00m \u001b[38;5;28;01mNone\u001b[39;00m:\n\u001b[32m    348\u001b[39m     \u001b[38;5;28mcls\u001b[39m = JSONDecoder\n",
      "\u001b[36mFile \u001b[39m\u001b[32mc:\\Users\\Lijin Durairaj\\AppData\\Local\\conda\\conda\\envs\\modelenvnew\\Lib\\json\\decoder.py:337\u001b[39m, in \u001b[36mJSONDecoder.decode\u001b[39m\u001b[34m(self, s, _w)\u001b[39m\n\u001b[32m    332\u001b[39m \u001b[38;5;28;01mdef\u001b[39;00m\u001b[38;5;250m \u001b[39m\u001b[34mdecode\u001b[39m(\u001b[38;5;28mself\u001b[39m, s, _w=WHITESPACE.match):\n\u001b[32m    333\u001b[39m \u001b[38;5;250m    \u001b[39m\u001b[33;03m\"\"\"Return the Python representation of ``s`` (a ``str`` instance\u001b[39;00m\n\u001b[32m    334\u001b[39m \u001b[33;03m    containing a JSON document).\u001b[39;00m\n\u001b[32m    335\u001b[39m \n\u001b[32m    336\u001b[39m \u001b[33;03m    \"\"\"\u001b[39;00m\n\u001b[32m--> \u001b[39m\u001b[32m337\u001b[39m     obj, end = \u001b[38;5;28;43mself\u001b[39;49m\u001b[43m.\u001b[49m\u001b[43mraw_decode\u001b[49m\u001b[43m(\u001b[49m\u001b[43ms\u001b[49m\u001b[43m,\u001b[49m\u001b[43m \u001b[49m\u001b[43midx\u001b[49m\u001b[43m=\u001b[49m\u001b[43m_w\u001b[49m\u001b[43m(\u001b[49m\u001b[43ms\u001b[49m\u001b[43m,\u001b[49m\u001b[43m \u001b[49m\u001b[32;43m0\u001b[39;49m\u001b[43m)\u001b[49m\u001b[43m.\u001b[49m\u001b[43mend\u001b[49m\u001b[43m(\u001b[49m\u001b[43m)\u001b[49m\u001b[43m)\u001b[49m\n\u001b[32m    338\u001b[39m     end = _w(s, end).end()\n\u001b[32m    339\u001b[39m     \u001b[38;5;28;01mif\u001b[39;00m end != \u001b[38;5;28mlen\u001b[39m(s):\n",
      "\u001b[36mFile \u001b[39m\u001b[32mc:\\Users\\Lijin Durairaj\\AppData\\Local\\conda\\conda\\envs\\modelenvnew\\Lib\\json\\decoder.py:355\u001b[39m, in \u001b[36mJSONDecoder.raw_decode\u001b[39m\u001b[34m(self, s, idx)\u001b[39m\n\u001b[32m    353\u001b[39m     obj, end = \u001b[38;5;28mself\u001b[39m.scan_once(s, idx)\n\u001b[32m    354\u001b[39m \u001b[38;5;28;01mexcept\u001b[39;00m \u001b[38;5;167;01mStopIteration\u001b[39;00m \u001b[38;5;28;01mas\u001b[39;00m err:\n\u001b[32m--> \u001b[39m\u001b[32m355\u001b[39m     \u001b[38;5;28;01mraise\u001b[39;00m JSONDecodeError(\u001b[33m\"\u001b[39m\u001b[33mExpecting value\u001b[39m\u001b[33m\"\u001b[39m, s, err.value) \u001b[38;5;28;01mfrom\u001b[39;00m\u001b[38;5;250m \u001b[39m\u001b[38;5;28;01mNone\u001b[39;00m\n\u001b[32m    356\u001b[39m \u001b[38;5;28;01mreturn\u001b[39;00m obj, end\n",
      "\u001b[31mJSONDecodeError\u001b[39m: Expecting value: line 1 column 1 (char 0)"
     ]
    }
   ],
   "source": [
    "json.loads(fixed)"
   ]
  },
  {
   "cell_type": "markdown",
   "metadata": {},
   "source": [
    "# experiment 1"
   ]
  },
  {
   "cell_type": "code",
   "execution_count": 56,
   "metadata": {},
   "outputs": [],
   "source": [
    "from pydantic import BaseModel,Field\n",
    "\n",
    "class RewriteQueryOutputFormat(BaseModel):\n",
    "  query:list=Field(...,description='The re-written user query')\n",
    "\n",
    "\n",
    "rewrite_3_prompt = '''\n",
    "You are an expert in rephrasing complex employee-related questions into short, compressed, and easy-to-understand alternatives.\n",
    "Given a user’s original question, rewrite it into 3 distinct simplified queries that retain the core meaning but are easier to process and interpret.\n",
    "\n",
    "Each rewritten query should:\n",
    "- Be short and direct (1–2 lines)\n",
    "- Avoid unnecessary words\n",
    "- Use simpler language\n",
    "- Capture the original intent accurately\n",
    "\n",
    "{format_instructions}\n",
    "\n",
    "Question: {input_question}\n",
    "Answer:\n",
    "'''.strip()\n",
    "\n",
    "\n",
    "schema = [\n",
    "    ResponseSchema(\n",
    "        name='answer',\n",
    "        description='List of 3 re-written queries that are short and easy to understand.'\n",
    "    )\n",
    "]\n",
    "\n",
    "parser = StructuredOutputParser.from_response_schemas(schema)\n",
    "format_instructions = parser.get_format_instructions()\n",
    "\n",
    "\n",
    "prompt=PromptTemplate(\n",
    "    template=rewrite_3_prompt,\n",
    "     input_variables=['input_question'],\n",
    "    partial_variables={\"format_instructions\": format_instructions}\n",
    ")"
   ]
  },
  {
   "cell_type": "code",
   "execution_count": 57,
   "metadata": {},
   "outputs": [],
   "source": [
    "llm = HuggingFaceEndpoint(\n",
    "repo_id=\"meta-llama/Llama-3.2-3B-Instruct\",\n",
    "task=\"text-generation\"\n",
    ")\n",
    "model = ChatHuggingFace(llm=llm)\n",
    "\n"
   ]
  },
  {
   "cell_type": "code",
   "execution_count": 58,
   "metadata": {},
   "outputs": [],
   "source": [
    "chain=(\n",
    "    prompt\n",
    "    | model\n",
    "    | parser\n",
    ")\n"
   ]
  },
  {
   "cell_type": "code",
   "execution_count": 59,
   "metadata": {},
   "outputs": [],
   "source": [
    "response=chain.invoke({\n",
    "    \"input_question\":\"pull me all the details of the person by the name unis and also the persons joining date\"\n",
    "})"
   ]
  },
  {
   "cell_type": "code",
   "execution_count": 60,
   "metadata": {},
   "outputs": [
    {
     "name": "stdout",
     "output_type": "stream",
     "text": [
      "{'answer': [\"What is the person's details by name Unis?\", 'Who is Unis in our database?', \"Can you show Unis's profile?\"]}\n"
     ]
    }
   ],
   "source": [
    "print(response)"
   ]
  },
  {
   "cell_type": "markdown",
   "metadata": {},
   "source": [
    "# human in loop"
   ]
  },
  {
   "cell_type": "code",
   "execution_count": 8,
   "metadata": {},
   "outputs": [
    {
     "name": "stderr",
     "output_type": "stream",
     "text": [
      "c:\\Users\\Lijin Durairaj\\AppData\\Local\\conda\\conda\\envs\\modelenvnew\\Lib\\site-packages\\tqdm\\auto.py:21: TqdmWarning: IProgress not found. Please update jupyter and ipywidgets. See https://ipywidgets.readthedocs.io/en/stable/user_install.html\n",
      "  from .autonotebook import tqdm as notebook_tqdm\n"
     ]
    },
    {
     "ename": "TypeError",
     "evalue": "Expected a Runnable, callable or dict.Instead got an unsupported type: <class 'str'>",
     "output_type": "error",
     "traceback": [
      "\u001b[31m---------------------------------------------------------------------------\u001b[39m",
      "\u001b[31mTypeError\u001b[39m                                 Traceback (most recent call last)",
      "\u001b[36mCell\u001b[39m\u001b[36m \u001b[39m\u001b[32mIn[8]\u001b[39m\u001b[32m, line 9\u001b[39m\n\u001b[32m      5\u001b[39m \u001b[38;5;66;03m# parser=StrOutputParser()\u001b[39;00m\n\u001b[32m      6\u001b[39m model = ChatHuggingFace(llm=llm)\n\u001b[32m      8\u001b[39m chain=(        \n\u001b[32m----> \u001b[39m\u001b[32m9\u001b[39m         \u001b[43mrewrite_3_prompt\u001b[49m\n\u001b[32m     10\u001b[39m \u001b[43m        \u001b[49m\u001b[43m|\u001b[49m\u001b[43m \u001b[49m\u001b[43mmodel\u001b[49m\n\u001b[32m     11\u001b[39m     )\n\u001b[32m     12\u001b[39m chain.invoke(\u001b[33m'\u001b[39m\u001b[33mget me the details of unis\u001b[39m\u001b[33m'\u001b[39m)\n",
      "\u001b[36mFile \u001b[39m\u001b[32mc:\\Users\\Lijin Durairaj\\AppData\\Local\\conda\\conda\\envs\\modelenvnew\\Lib\\site-packages\\langchain_core\\runnables\\base.py:588\u001b[39m, in \u001b[36mRunnable.__ror__\u001b[39m\u001b[34m(self, other)\u001b[39m\n\u001b[32m    577\u001b[39m \u001b[38;5;28;01mdef\u001b[39;00m\u001b[38;5;250m \u001b[39m\u001b[34m__ror__\u001b[39m(\n\u001b[32m    578\u001b[39m     \u001b[38;5;28mself\u001b[39m,\n\u001b[32m    579\u001b[39m     other: Union[\n\u001b[32m   (...)\u001b[39m\u001b[32m    585\u001b[39m     ],\n\u001b[32m    586\u001b[39m ) -> RunnableSerializable[Other, Output]:\n\u001b[32m    587\u001b[39m \u001b[38;5;250m    \u001b[39m\u001b[33;03m\"\"\"Compose this Runnable with another object to create a RunnableSequence.\"\"\"\u001b[39;00m\n\u001b[32m--> \u001b[39m\u001b[32m588\u001b[39m     \u001b[38;5;28;01mreturn\u001b[39;00m RunnableSequence(\u001b[43mcoerce_to_runnable\u001b[49m\u001b[43m(\u001b[49m\u001b[43mother\u001b[49m\u001b[43m)\u001b[49m, \u001b[38;5;28mself\u001b[39m)\n",
      "\u001b[36mFile \u001b[39m\u001b[32mc:\\Users\\Lijin Durairaj\\AppData\\Local\\conda\\conda\\envs\\modelenvnew\\Lib\\site-packages\\langchain_core\\runnables\\base.py:5930\u001b[39m, in \u001b[36mcoerce_to_runnable\u001b[39m\u001b[34m(thing)\u001b[39m\n\u001b[32m   5925\u001b[39m     \u001b[38;5;28;01mreturn\u001b[39;00m cast(\u001b[33m\"\u001b[39m\u001b[33mRunnable[Input, Output]\u001b[39m\u001b[33m\"\u001b[39m, RunnableParallel(thing))\n\u001b[32m   5926\u001b[39m msg = (\n\u001b[32m   5927\u001b[39m     \u001b[33mf\u001b[39m\u001b[33m\"\u001b[39m\u001b[33mExpected a Runnable, callable or dict.\u001b[39m\u001b[33m\"\u001b[39m\n\u001b[32m   5928\u001b[39m     \u001b[33mf\u001b[39m\u001b[33m\"\u001b[39m\u001b[33mInstead got an unsupported type: \u001b[39m\u001b[38;5;132;01m{\u001b[39;00m\u001b[38;5;28mtype\u001b[39m(thing)\u001b[38;5;132;01m}\u001b[39;00m\u001b[33m\"\u001b[39m\n\u001b[32m   5929\u001b[39m )\n\u001b[32m-> \u001b[39m\u001b[32m5930\u001b[39m \u001b[38;5;28;01mraise\u001b[39;00m \u001b[38;5;167;01mTypeError\u001b[39;00m(msg)\n",
      "\u001b[31mTypeError\u001b[39m: Expected a Runnable, callable or dict.Instead got an unsupported type: <class 'str'>"
     ]
    }
   ],
   "source": [
    "llm = HuggingFaceEndpoint(\n",
    "repo_id=\"meta-llama/Llama-3.2-3B-Instruct\",\n",
    "task=\"text-generation\"\n",
    ")\n",
    "# parser=StrOutputParser()\n",
    "model = ChatHuggingFace(llm=llm)\n",
    "\n",
    "chain=(        \n",
    "        rewrite_3_prompt\n",
    "        | model\n",
    "    )\n",
    "chain.invoke('get me the details of unis')"
   ]
  },
  {
   "cell_type": "code",
   "execution_count": null,
   "metadata": {},
   "outputs": [],
   "source": []
  },
  {
   "cell_type": "markdown",
   "metadata": {},
   "source": [
    "# langraph"
   ]
  },
  {
   "cell_type": "code",
   "execution_count": 1,
   "metadata": {},
   "outputs": [
    {
     "ename": "ImportError",
     "evalue": "cannot import name 'StateGraph' from 'langchain_core.runnables.graph' (c:\\Users\\Lijin Durairaj\\AppData\\Local\\conda\\conda\\envs\\modelenvnew\\Lib\\site-packages\\langchain_core\\runnables\\graph.py)",
     "output_type": "error",
     "traceback": [
      "\u001b[31m---------------------------------------------------------------------------\u001b[39m",
      "\u001b[31mImportError\u001b[39m                               Traceback (most recent call last)",
      "\u001b[36mCell\u001b[39m\u001b[36m \u001b[39m\u001b[32mIn[1]\u001b[39m\u001b[32m, line 1\u001b[39m\n\u001b[32m----> \u001b[39m\u001b[32m1\u001b[39m \u001b[38;5;28;01mfrom\u001b[39;00m\u001b[38;5;250m \u001b[39m\u001b[34;01mlangchain_core\u001b[39;00m\u001b[34;01m.\u001b[39;00m\u001b[34;01mrunnables\u001b[39;00m\u001b[34;01m.\u001b[39;00m\u001b[34;01mgraph\u001b[39;00m\u001b[38;5;250m \u001b[39m\u001b[38;5;28;01mimport\u001b[39;00m StateGraph, START, END\n\u001b[32m      2\u001b[39m \u001b[38;5;28;01mfrom\u001b[39;00m\u001b[38;5;250m \u001b[39m\u001b[34;01mlangchain_core\u001b[39;00m\u001b[34;01m.\u001b[39;00m\u001b[34;01mrunnables\u001b[39;00m\u001b[38;5;250m \u001b[39m\u001b[38;5;28;01mimport\u001b[39;00m RunnableLambda\n\u001b[32m      3\u001b[39m \u001b[38;5;28;01mfrom\u001b[39;00m\u001b[38;5;250m \u001b[39m\u001b[34;01mtyping\u001b[39;00m\u001b[38;5;250m \u001b[39m\u001b[38;5;28;01mimport\u001b[39;00m TypedDict\n",
      "\u001b[31mImportError\u001b[39m: cannot import name 'StateGraph' from 'langchain_core.runnables.graph' (c:\\Users\\Lijin Durairaj\\AppData\\Local\\conda\\conda\\envs\\modelenvnew\\Lib\\site-packages\\langchain_core\\runnables\\graph.py)"
     ]
    }
   ],
   "source": [
    "from langchain_core.runnables.graph import StateGraph, START, END\n",
    "from langchain_core.runnables import RunnableLambda\n",
    "from typing import TypedDict\n",
    "\n",
    "# Input schema\n",
    "class Person(TypedDict):\n",
    "    name: str\n",
    "    age: int\n",
    "\n",
    "# Nodes\n",
    "def greet(state: Person):\n",
    "    print(f\"Hello, {state['name']}!\")\n",
    "    return state\n",
    "\n",
    "def check_age(state: Person):\n",
    "    if state[\"age\"] >= 21:\n",
    "        return \"can_drink\"\n",
    "    elif state[\"age\"] >= 16:\n",
    "        return \"can_drive\"\n",
    "    else:\n",
    "        return \"minor\"\n",
    "\n",
    "def can_drink(state: Person):\n",
    "    print(\"You can legally drink 🍺\")\n",
    "    return state\n",
    "\n",
    "def can_drive(state: Person):\n",
    "    print(\"You can drive 🚗\")\n",
    "    return state\n",
    "\n",
    "def minor(state: Person):\n",
    "    print(\"You're a minor 🚫\")\n",
    "    return state\n",
    "\n",
    "# Build graph\n",
    "graph = StateGraph(Person)\n",
    "\n",
    "graph.add_node(\"greet\", greet)\n",
    "graph.add_node(\"check_age\", RunnableLambda(check_age))  # ✅ wrapped as RunnableLambda\n",
    "graph.add_node(\"can_drink\", can_drink)\n",
    "graph.add_node(\"can_drive\", can_drive)\n",
    "graph.add_node(\"minor\", minor)\n",
    "\n",
    "graph.add_edge(START, \"greet\")\n",
    "graph.add_edge(\"greet\", \"check_age\")\n",
    "\n",
    "# ✅ Correct conditional edge mapping\n",
    "graph.add_conditional_edges(\n",
    "    \"check_age\",\n",
    "    {\n",
    "        \"can_drink\": \"can_drink\",\n",
    "        \"can_drive\": \"can_drive\",\n",
    "        \"minor\": \"minor\"\n",
    "    }\n",
    ")\n",
    "\n",
    "graph.add_edge(\"can_drink\", END)\n",
    "graph.add_edge(\"can_drive\", END)\n",
    "graph.add_edge(\"minor\", END)\n",
    "\n",
    "# Compile\n",
    "app = graph.compile()"
   ]
  }
 ],
 "metadata": {
  "kernelspec": {
   "display_name": "modelenvnew",
   "language": "python",
   "name": "python3"
  },
  "language_info": {
   "codemirror_mode": {
    "name": "ipython",
    "version": 3
   },
   "file_extension": ".py",
   "mimetype": "text/x-python",
   "name": "python",
   "nbconvert_exporter": "python",
   "pygments_lexer": "ipython3",
   "version": "3.11.13"
  }
 },
 "nbformat": 4,
 "nbformat_minor": 2
}
